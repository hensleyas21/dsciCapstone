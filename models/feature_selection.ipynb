{
 "cells": [
  {
   "cell_type": "code",
   "execution_count": 1,
   "metadata": {},
   "outputs": [],
   "source": [
    "from sklearn.feature_selection import SelectKBest, f_classif\n",
    "import importlib"
   ]
  },
  {
   "cell_type": "code",
   "execution_count": 2,
   "metadata": {},
   "outputs": [
    {
     "name": "stderr",
     "output_type": "stream",
     "text": [
      "c:\\Users\\HENSLEYAS21\\OneDrive - Grove City College\\Desktop\\DSCI450\\dsciCapstone\\models\\shared_methods.py:15: DtypeWarning: Columns (14) have mixed types. Specify dtype option on import or set low_memory=False.\n",
      "  df = pd.read_csv('../cleaned_data.csv')\n"
     ]
    },
    {
     "name": "stdout",
     "output_type": "stream",
     "text": [
      "apply additional cleaning steps\n"
     ]
    },
    {
     "name": "stderr",
     "output_type": "stream",
     "text": [
      "c:\\Users\\HENSLEYAS21\\OneDrive - Grove City College\\Desktop\\DSCI450\\dsciCapstone\\models\\additional_cleaning_steps.py:26: FutureWarning: Series.fillna with 'method' is deprecated and will raise in a future version. Use obj.ffill() or obj.bfill() instead.\n",
      "  chunk_df['passer_player_name'] = chunk_df['passer_player_name'].fillna(method='ffill').fillna(method='bfill')\n"
     ]
    },
    {
     "name": "stdout",
     "output_type": "stream",
     "text": [
      "columns before encoding = ['play_type', 'home_team', 'away_team', 'season_type', 'week', 'posteam', 'posteam_type', 'defteam', 'yardline_100', 'half_seconds_remaining', 'game_seconds_remaining', 'game_half', 'drive', 'down', 'goal_to_go', 'ydstogo', 'shotgun', 'no_huddle', 'posteam_timeouts_remaining', 'defteam_timeouts_remaining', 'posteam_score', 'defteam_score', 'score_differential', 'epa', 'wp', 'season', 'stadium', 'location', 'div_game', 'roof', 'surface', 'temp', 'wind', 'quarterback_on_field', 'posteam_coach', 'defteam_coach']\n",
      "num cols = 1557\n"
     ]
    }
   ],
   "source": [
    "imported_module = importlib.import_module(\"shared_methods\")\n",
    "importlib.reload(imported_module)\n",
    "from shared_methods import return_clean_data_df\n",
    "\n",
    "df_all_rows = return_clean_data_df()"
   ]
  },
  {
   "cell_type": "code",
   "execution_count": 7,
   "metadata": {},
   "outputs": [],
   "source": [
    "df = df_all_rows.sample(100000)"
   ]
  },
  {
   "cell_type": "code",
   "execution_count": 8,
   "metadata": {},
   "outputs": [
    {
     "name": "stdout",
     "output_type": "stream",
     "text": [
      "play_type: '<' not supported between instances of 'str' and 'int'\n",
      "score_differential: -59.0\n",
      "epa: -8.933872560934816\n",
      "\n",
      "cols_to_remove = ['play_type', 'score_differential', 'epa']\n"
     ]
    }
   ],
   "source": [
    "cols_to_remove = []\n",
    "\n",
    "for col in df.columns:\n",
    "    try:\n",
    "        m = min(df[col]) \n",
    "        if  m < 0:\n",
    "            print(f'{col}: {m}')\n",
    "            cols_to_remove.append(col)\n",
    "    except Exception as e:\n",
    "        print(f\"{col}: {e}\")\n",
    "        cols_to_remove.append(col)\n",
    "\n",
    "print(f'\\ncols_to_remove = {cols_to_remove}')"
   ]
  },
  {
   "cell_type": "code",
   "execution_count": 9,
   "metadata": {},
   "outputs": [
    {
     "name": "stderr",
     "output_type": "stream",
     "text": [
      "c:\\Users\\HENSLEYAS21\\AppData\\Local\\Programs\\Python\\Python313\\Lib\\site-packages\\sklearn\\utils\\validation.py:1408: DataConversionWarning: A column-vector y was passed when a 1d array was expected. Please change the shape of y to (n_samples, ), for example using ravel().\n",
      "  y = column_or_1d(y, warn=True)\n"
     ]
    },
    {
     "name": "stdout",
     "output_type": "stream",
     "text": [
      "['yardline_100' 'half_seconds_remaining' 'game_seconds_remaining' 'drive'\n",
      " 'down' 'goal_to_go' 'ydstogo' 'shotgun' 'no_huddle'\n",
      " 'posteam_timeouts_remaining' 'defteam_timeouts_remaining' 'posteam_score'\n",
      " 'defteam_score' 'wp' 'season' 'game_half_Half1' 'game_half_Half2'\n",
      " 'temp_missing' 'wind_missing' 'quarterback_on_field_C.Boswell']\n"
     ]
    },
    {
     "name": "stderr",
     "output_type": "stream",
     "text": [
      "c:\\Users\\HENSLEYAS21\\AppData\\Local\\Programs\\Python\\Python313\\Lib\\site-packages\\sklearn\\feature_selection\\_univariate_selection.py:111: UserWarning: Features [ 733  737  738  742  743  746  747  750  751  752  753  754  755  759\n",
      "  760  761  764  773  775  778  780  782  784  785  786  790  794  798\n",
      "  799  802  804  806  813  816  820  823  830  833  834  835  838  839\n",
      "  842  844  845  848  851  853  855  857  859  862  865  866  868  870\n",
      "  872  873  875  881  883  884  886  887  889  897  904  905  907  908\n",
      "  914  921  922  923  930  931  932  934  941  944  946  947  950  951\n",
      "  957  958  963  967  970  974  977  980  983  985  987  989  990  994\n",
      "  995  997 1000 1006 1009 1010 1012 1017 1018 1020 1022 1025 1031 1033\n",
      " 1039 1040 1041 1042 1045 1046 1049 1050 1057 1058 1060 1062 1065 1070\n",
      " 1084 1085 1093 1098 1100 1101 1107 1109 1112 1114 1116 1125 1129 1133\n",
      " 1134 1140 1143 1149 1151 1152 1156 1158 1160 1161 1162 1164 1166 1176\n",
      " 1178 1181 1188 1190 1194 1195 1197 1201 1202 1203 1212 1214 1216 1217\n",
      " 1218 1219 1220 1224 1231 1233 1238 1239 1241 1246 1247 1249 1252 1255\n",
      " 1257 1259 1263 1265 1266 1267 1268 1269 1271 1274 1277 1280 1282 1284\n",
      " 1286 1288 1294 1295 1297 1298 1299 1300 1303 1305 1314 1316 1318 1319\n",
      " 1321 1323 1324 1326 1327 1333 1334 1336 1337 1338 1340 1341 1342 1347\n",
      " 1348 1349 1350 1353 1356 1365 1367 1370 1371 1373 1385 1386 1391 1395\n",
      " 1396 1399 1400 1401 1402 1404 1405 1409 1412 1415 1417 1421 1430 1433\n",
      " 1436 1438 1443 1448 1449 1453 1462 1470 1477 1478 1480 1481 1482 1484\n",
      " 1490 1492 1497 1499 1501 1502 1505 1507 1512 1514 1515 1518 1519 1522\n",
      " 1526 1536 1538 1542 1543 1544 1547 1548 1550] are constant.\n",
      "  warnings.warn(\"Features %s are constant.\" % constant_features_idx, UserWarning)\n",
      "c:\\Users\\HENSLEYAS21\\AppData\\Local\\Programs\\Python\\Python313\\Lib\\site-packages\\sklearn\\feature_selection\\_univariate_selection.py:112: RuntimeWarning: invalid value encountered in divide\n",
      "  f = msb / msw\n"
     ]
    }
   ],
   "source": [
    "cols_to_remove = ['play_type', 'score_differential', 'epa']\n",
    "\n",
    "X, y = df.drop(columns=cols_to_remove), df[['play_type']]\n",
    "\n",
    "# Select top 2 features using chi-squared test\n",
    "X_new = SelectKBest(f_classif, k=20).fit(X, y)\n",
    "print(X_new.get_feature_names_out())"
   ]
  }
 ],
 "metadata": {
  "kernelspec": {
   "display_name": "Python 3",
   "language": "python",
   "name": "python3"
  },
  "language_info": {
   "codemirror_mode": {
    "name": "ipython",
    "version": 3
   },
   "file_extension": ".py",
   "mimetype": "text/x-python",
   "name": "python",
   "nbconvert_exporter": "python",
   "pygments_lexer": "ipython3",
   "version": "3.13.1"
  }
 },
 "nbformat": 4,
 "nbformat_minor": 2
}
