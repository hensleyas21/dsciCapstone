{
 "cells": [
  {
   "cell_type": "code",
   "execution_count": 2,
   "metadata": {},
   "outputs": [],
   "source": [
    "from sklearn.feature_selection import SelectKBest, f_classif\n",
    "from shared_methods import return_clean_data_df"
   ]
  },
  {
   "cell_type": "code",
   "execution_count": 5,
   "metadata": {},
   "outputs": [
    {
     "name": "stderr",
     "output_type": "stream",
     "text": [
      "c:\\Users\\HENSLEYAS21\\OneDrive - Grove City College\\Desktop\\DSCI450\\dsciCapstone\\models\\shared_methods.py:12: DtypeWarning: Columns (14) have mixed types. Specify dtype option on import or set low_memory=False.\n",
      "  df = pd.read_csv('../cleaned_data.csv')\n"
     ]
    },
    {
     "name": "stdout",
     "output_type": "stream",
     "text": [
      "apply additional cleaning steps\n",
      "columns before encoding = ['play_type', 'home_team', 'away_team', 'season_type', 'week', 'posteam', 'posteam_type', 'defteam', 'yardline_100', 'half_seconds_remaining', 'game_seconds_remaining', 'game_half', 'drive', 'qtr', 'down', 'goal_to_go', 'ydstogo', 'shotgun', 'no_huddle', 'posteam_timeouts_remaining', 'defteam_timeouts_remaining', 'posteam_score', 'defteam_score', 'score_differential', 'epa', 'wp', 'season', 'start_time', 'stadium', 'location', 'div_game', 'roof', 'surface', 'temp', 'wind', 'home_coach', 'away_coach', 'posteam_coach', 'defteam_coach']\n",
      "num cols = 6434\n"
     ]
    }
   ],
   "source": [
    "df_all_rows = return_clean_data_df()"
   ]
  },
  {
   "cell_type": "code",
   "execution_count": 23,
   "metadata": {},
   "outputs": [],
   "source": [
    "df = df_all_rows.sample(100000)"
   ]
  },
  {
   "cell_type": "code",
   "execution_count": null,
   "metadata": {},
   "outputs": [
    {
     "name": "stdout",
     "output_type": "stream",
     "text": [
      "play_type: error\n",
      "drive: error\n",
      "posteam_timeouts_remaining: -1.0\n",
      "defteam_timeouts_remaining: -1.0\n",
      "score_differential: -59.0\n",
      "epa: -9.945298865350455\n",
      "posteam_coach: error\n",
      "defteam_coach: error\n",
      "100\n",
      "200\n",
      "300\n",
      "400\n"
     ]
    },
    {
     "ename": "KeyboardInterrupt",
     "evalue": "",
     "output_type": "error",
     "traceback": [
      "\u001b[1;31m---------------------------------------------------------------------------\u001b[0m",
      "\u001b[1;31mKeyboardInterrupt\u001b[0m                         Traceback (most recent call last)",
      "Cell \u001b[1;32mIn[17], line 11\u001b[0m\n\u001b[0;32m      9\u001b[0m \u001b[38;5;28;01mtry\u001b[39;00m:\n\u001b[0;32m     10\u001b[0m     m \u001b[38;5;241m=\u001b[39m \u001b[38;5;28mmin\u001b[39m(df[col]) \n\u001b[1;32m---> 11\u001b[0m     \u001b[38;5;28;01mif\u001b[39;00m  m \u001b[38;5;241m<\u001b[39m \u001b[38;5;241m0\u001b[39m:\n\u001b[0;32m     12\u001b[0m         \u001b[38;5;28mprint\u001b[39m(\u001b[38;5;124mf\u001b[39m\u001b[38;5;124m'\u001b[39m\u001b[38;5;132;01m{\u001b[39;00mcol\u001b[38;5;132;01m}\u001b[39;00m\u001b[38;5;124m: \u001b[39m\u001b[38;5;132;01m{\u001b[39;00mm\u001b[38;5;132;01m}\u001b[39;00m\u001b[38;5;124m'\u001b[39m)\n\u001b[0;32m     13\u001b[0m         cols_to_remove\u001b[38;5;241m.\u001b[39mappend(col)\n",
      "\u001b[1;31mKeyboardInterrupt\u001b[0m: "
     ]
    }
   ],
   "source": [
    "# cols_to_remove = []\n",
    "\n",
    "# count = 0\n",
    "\n",
    "# for col in df.columns:\n",
    "#     count += 1\n",
    "#     if count % 100 == 0:\n",
    "#         print(count)\n",
    "#     try:\n",
    "#         m = min(df[col]) \n",
    "#         if  m < 0:\n",
    "#             print(f'{col}: {m}')\n",
    "#             cols_to_remove.append(col)\n",
    "#     except:\n",
    "#         print(f\"{col}: error\")\n",
    "#         cols_to_remove.append(col)\n",
    "\n",
    "# print(cols_to_remove)"
   ]
  },
  {
   "cell_type": "code",
   "execution_count": 24,
   "metadata": {},
   "outputs": [
    {
     "name": "stderr",
     "output_type": "stream",
     "text": [
      "c:\\Users\\HENSLEYAS21\\AppData\\Local\\Programs\\Python\\Python313\\Lib\\site-packages\\sklearn\\utils\\validation.py:1408: DataConversionWarning: A column-vector y was passed when a 1d array was expected. Please change the shape of y to (n_samples, ), for example using ravel().\n",
      "  y = column_or_1d(y, warn=True)\n"
     ]
    },
    {
     "name": "stdout",
     "output_type": "stream",
     "text": [
      "[[5.00000000e+00 6.08000000e+02 2.00000000e+00 0.00000000e+00\n",
      "  9.97113466e-01]\n",
      " [5.20000000e+01 3.91000000e+02 1.00000000e+00 1.00000000e+00\n",
      "  4.63621914e-02]\n",
      " [5.00000000e+01 8.60000000e+02 1.00000000e+00 1.00000000e+00\n",
      "  8.59158158e-01]\n",
      " ...\n",
      " [2.00000000e+00 7.58000000e+02 1.00000000e+00 0.00000000e+00\n",
      "  2.89174020e-02]\n",
      " [8.10000000e+01 4.70000000e+01 1.00000000e+00 1.00000000e+00\n",
      "  8.21369708e-01]\n",
      " [5.10000000e+01 1.34000000e+02 2.00000000e+00 1.00000000e+00\n",
      "  1.97223529e-01]]\n"
     ]
    }
   ],
   "source": [
    "# Load data\n",
    "# X, y = df.drop(columns=['play_type']), df[['play_type']]\n",
    "\n",
    "cols_to_remove = ['play_type',\n",
    "                    'drive',\n",
    "                    'posteam_timeouts_remaining',\n",
    "                    'defteam_timeouts_remaining',\n",
    "                    'score_differential',\n",
    "                    'epa',\n",
    "                    'posteam_coach',\n",
    "                    'defteam_coach']\n",
    "\n",
    "X, y = df.drop(columns=cols_to_remove), df[['play_type']]\n",
    "\n",
    "# Select top 2 features using chi-squared test\n",
    "X_new = SelectKBest(f_classif, k=5).fit_transform(X, y)\n",
    "print(X_new)"
   ]
  }
 ],
 "metadata": {
  "kernelspec": {
   "display_name": "Python 3",
   "language": "python",
   "name": "python3"
  },
  "language_info": {
   "codemirror_mode": {
    "name": "ipython",
    "version": 3
   },
   "file_extension": ".py",
   "mimetype": "text/x-python",
   "name": "python",
   "nbconvert_exporter": "python",
   "pygments_lexer": "ipython3",
   "version": "3.13.1"
  }
 },
 "nbformat": 4,
 "nbformat_minor": 2
}
