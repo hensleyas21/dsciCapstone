{
 "cells": [
  {
   "cell_type": "code",
   "metadata": {
    "ExecuteTime": {
     "end_time": "2025-03-14T14:22:53.219108Z",
     "start_time": "2025-03-14T14:22:51.824325Z"
    }
   },
   "source": [
    "import pandas as pd\n",
    "from sklearn.model_selection import train_test_split"
   ],
   "outputs": [],
   "execution_count": 2
  },
  {
   "cell_type": "code",
   "metadata": {
    "ExecuteTime": {
     "end_time": "2025-03-14T14:23:39.060276Z",
     "start_time": "2025-03-14T14:23:33.058280Z"
    }
   },
   "source": [
    "# read in initial data and drop columns not included in the model\n",
    "cols_to_drop = ['play_id', 'game_id', 'yards_gained', 'qb_scramble', 'qb_dropback', 'kick_distance', 'punt_blocked', 'first_down_rush', 'first_down_pass', 'first_down_penalty', 'third_down_converted', 'third_down_failed', 'fourth_down_converted', 'fourth_down_failed', 'incomplete_pass', 'safety', 'penalty', 'fumble_lost', 'qb_hit', 'sack', 'touchdown', 'extra_point_attempt', 'two_point_attempt', 'field_goal_attempt', 'kickoff_attempt', 'punt_attempt', 'passing_yards', 'passer_player_name', 'receiving_yards', 'receiver_player_id', 'receiver_player_name', 'rushing_yards', 'rusher_player_id', 'rusher_player_name', 'penalty_team', 'replay_or_challenge', 'replay_or_challenge_result', 'weather', 'sp', 'field_goal_result', 'extra_point_result', 'two_point_conv_result', 'rush_attempt', 'pass_attempt']\n",
    "df = pd.read_csv('../cleaned_data.csv')\n",
    "df = df.drop(columns=cols_to_drop)"
   ],
   "outputs": [
    {
     "name": "stderr",
     "output_type": "stream",
     "text": [
      "/var/folders/y9/3n_4xggx67q4b0ldt7wdzt6w0000gn/T/ipykernel_52585/3573307397.py:3: DtypeWarning: Columns (14) have mixed types. Specify dtype option on import or set low_memory=False.\n",
      "  df = pd.read_csv('../cleaned_data.csv')\n"
     ]
    }
   ],
   "execution_count": 4
  },
  {
   "cell_type": "code",
   "metadata": {
    "ExecuteTime": {
     "end_time": "2025-03-14T14:23:43.404934Z",
     "start_time": "2025-03-14T14:23:39.834510Z"
    }
   },
   "source": [
    "one_hot_encoding_fields = ['home_team', 'away_team', 'season_type', 'posteam', 'drive',\n",
    "       'posteam_type', 'defteam', 'game_half', 'run_location',\n",
    "       'run_gap', 'passer_player_id', 'start_time', 'stadium', 'location', 'roof', 'surface', 'temp', 'wind', 'home_coach',\n",
    "       'away_coach']\n",
    "\n",
    "df = pd.get_dummies(df, columns=one_hot_encoding_fields)\n",
    "print(f'num cols = {len(df.columns)}')"
   ],
   "outputs": [
    {
     "name": "stdout",
     "output_type": "stream",
     "text": [
      "num cols = 7298\n"
     ]
    }
   ],
   "execution_count": 5
  },
  {
   "cell_type": "code",
   "metadata": {
    "ExecuteTime": {
     "end_time": "2025-03-14T14:17:51.838115Z",
     "start_time": "2025-03-14T14:17:51.789787Z"
    }
   },
   "source": [
    "# make prediction using baseline model\n",
    "\n",
    "# baseline model:\n",
    "#   if down = 1:    run\n",
    "#   if down = 2:    pass\n",
    "#   if down = 3:    pass\n",
    "#   if down = 4 and yardline_100 > 30:     punt\n",
    "#   if down = 4 and yardline_100 <= 30:    field_goal\n",
    "\n",
    "down_to_play = {1:'run', 2:'pass', 3:'pass', 4:'punt'}\n",
    "df['play_prediction'] = df['down'].map(down_to_play)\n",
    "df.loc[(df['down'] == 4) & (df['yardline_100'] <= 30), 'play_prediction'] = 'field_goal'"
   ],
   "outputs": [],
   "execution_count": 28
  },
  {
   "cell_type": "code",
   "metadata": {
    "ExecuteTime": {
     "end_time": "2025-03-14T14:09:15.624147Z",
     "start_time": "2025-03-14T14:09:14.502961Z"
    }
   },
   "source": [
    "num_correct_df = df.loc[df['play_prediction'] == df['play_type']]\n",
    "print(len(num_correct_df) / len(df))"
   ],
   "outputs": [
    {
     "name": "stdout",
     "output_type": "stream",
     "text": [
      "0.6053285274293622\n"
     ]
    }
   ],
   "execution_count": 15
  },
  {
   "cell_type": "code",
   "metadata": {
    "ExecuteTime": {
     "end_time": "2025-03-14T14:23:57.339491Z",
     "start_time": "2025-03-14T14:23:45.258302Z"
    }
   },
   "source": [
    "X = df.drop(columns=['play_type'])\n",
    "y = df['play_type']\n",
    "X_train, X_test, y_train, y_test = train_test_split(X, y)\n",
    "\n",
    "print(len(X_train))\n",
    "print(len(X_test))\n",
    "print(len(y_train))\n",
    "print(len(y_test))"
   ],
   "outputs": [
    {
     "name": "stdout",
     "output_type": "stream",
     "text": [
      "672090\n",
      "224030\n",
      "672090\n",
      "224030\n"
     ]
    }
   ],
   "execution_count": 6
  },
  {
   "metadata": {
    "jupyter": {
     "is_executing": true
    },
    "ExecuteTime": {
     "start_time": "2025-03-14T14:23:58.264210Z"
    }
   },
   "cell_type": "code",
   "source": [
    "from sklearn.metrics import accuracy_score\n",
    "from sklearn.tree import DecisionTreeClassifier\n",
    "\n",
    "model = DecisionTreeClassifier()\n",
    "\n",
    "model.fit(X_train, y_train)\n",
    "y_pred = model.predict(X_test)\n",
    "acc: float = float(accuracy_score(y_test, y_pred))\n",
    "print(f'Accuracy: {acc * 100:.2f}%')"
   ],
   "outputs": [],
   "execution_count": null
  },
  {
   "metadata": {},
   "cell_type": "code",
   "outputs": [],
   "execution_count": null,
   "source": ""
  }
 ],
 "metadata": {
  "kernelspec": {
   "display_name": "Python 3",
   "language": "python",
   "name": "python3"
  },
  "language_info": {
   "codemirror_mode": {
    "name": "ipython",
    "version": 3
   },
   "file_extension": ".py",
   "mimetype": "text/x-python",
   "name": "python",
   "nbconvert_exporter": "python",
   "pygments_lexer": "ipython3",
   "version": "3.13.1"
  }
 },
 "nbformat": 4,
 "nbformat_minor": 2
}
