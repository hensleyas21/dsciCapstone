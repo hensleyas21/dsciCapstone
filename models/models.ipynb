{
 "cells": [
  {
   "cell_type": "code",
   "execution_count": null,
   "metadata": {},
   "outputs": [],
   "source": [
    "import pandas as pd\n",
    "from sklearn.model_selection import train_test_split"
   ]
  },
  {
   "cell_type": "code",
   "execution_count": 16,
   "metadata": {},
   "outputs": [
    {
     "name": "stderr",
     "output_type": "stream",
     "text": [
      "C:\\Users\\HENSLEYAS21\\AppData\\Local\\Temp\\ipykernel_7412\\3823286429.py:3: DtypeWarning: Columns (14) have mixed types. Specify dtype option on import or set low_memory=False.\n",
      "  df = pd.read_csv('../cleaned_data.csv')\n"
     ]
    }
   ],
   "source": [
    "# read in initial data and drop columns not included in the model\n",
    "cols_to_drop = ['play_id', 'game_id', 'yards_gained', 'qb_scramble', 'qb_dropback', 'kick_distance', 'punt_blocked', 'first_down_rush', 'first_down_pass', 'first_down_penalty', 'third_down_converted', 'third_down_failed', 'fourth_down_converted', 'fourth_down_failed', 'incomplete_pass', 'safety', 'penalty', 'fumble_lost', 'qb_hit', 'sack', 'touchdown', 'extra_point_attempt', 'two_point_attempt', 'field_goal_attempt', 'kickoff_attempt', 'punt_attempt', 'passing_yards', 'passer_player_name', 'receiving_yards', 'receiver_player_id', 'receiver_player_name', 'rushing_yards', 'rusher_player_id', 'rusher_player_name', 'penalty_team', 'replay_or_challenge', 'replay_or_challenge_result', 'weather']\n",
    "df = pd.read_csv('../cleaned_data.csv')\n",
    "df = df.drop(columns=cols_to_drop)"
   ]
  },
  {
   "cell_type": "code",
   "execution_count": 17,
   "metadata": {},
   "outputs": [
    {
     "name": "stdout",
     "output_type": "stream",
     "text": [
      "num cols = 1383\n"
     ]
    }
   ],
   "source": [
    "one_hot_encoding_fields = [\n",
    "    \"home_team\",\n",
    "    \"away_team\",\n",
    "    \"posteam\",\n",
    "    \"defteam\",\n",
    "    \"game_half\",\n",
    "    \"passer_player_id\",\n",
    "    \"stadium\",\n",
    "    \"roof\",\n",
    "    \"surface\",\n",
    "    \"home_coach\",\n",
    "    \"away_coach\"\n",
    "]\n",
    "df = pd.get_dummies(df, columns=one_hot_encoding_fields)\n",
    "print(f'num cols = {len(df.columns)}')"
   ]
  },
  {
   "cell_type": "code",
   "execution_count": 18,
   "metadata": {},
   "outputs": [],
   "source": [
    "# make prediction using baseline model\n",
    "\n",
    "# baseline model:\n",
    "#   if down = 1:    run\n",
    "#   if down = 2:    pass\n",
    "#   if down = 3:    pass\n",
    "#   if down = 4 and yardline_100 > 30:     punt\n",
    "#   if down = 4 and yardline_100 <= 30:    field_goal\n",
    "\n",
    "down_to_play = {1:'run', 2:'pass', 3:'pass', 4:'punt'}\n",
    "df['play_prediction'] = df['down'].map(down_to_play)\n",
    "df.loc[(df['down'] == 4) & (df['yardline_100'] <= 30), 'play_prediction'] = 'field_goal'"
   ]
  },
  {
   "cell_type": "code",
   "execution_count": null,
   "metadata": {},
   "outputs": [
    {
     "name": "stdout",
     "output_type": "stream",
     "text": [
      "0.6053285274293622\n"
     ]
    }
   ],
   "source": [
    "num_correct_df = df.loc[df['play_prediction'] == df['play_type']]\n",
    "print(len(num_correct_df) / len(df))"
   ]
  },
  {
   "cell_type": "code",
   "execution_count": 19,
   "metadata": {},
   "outputs": [
    {
     "name": "stdout",
     "output_type": "stream",
     "text": [
      "672090\n",
      "224030\n",
      "672090\n",
      "224030\n"
     ]
    }
   ],
   "source": [
    "X = df.drop(columns=['play_type'])\n",
    "y = df['play_type']\n",
    "X_train, X_test, y_train, y_test = train_test_split(X, y)\n",
    "\n",
    "print(len(X_train))\n",
    "print(len(X_test))\n",
    "print(len(y_train))\n",
    "print(len(y_test))"
   ]
  }
 ],
 "metadata": {
  "kernelspec": {
   "display_name": "Python 3",
   "language": "python",
   "name": "python3"
  },
  "language_info": {
   "codemirror_mode": {
    "name": "ipython",
    "version": 3
   },
   "file_extension": ".py",
   "mimetype": "text/x-python",
   "name": "python",
   "nbconvert_exporter": "python",
   "pygments_lexer": "ipython3",
   "version": "3.13.1"
  }
 },
 "nbformat": 4,
 "nbformat_minor": 2
}
